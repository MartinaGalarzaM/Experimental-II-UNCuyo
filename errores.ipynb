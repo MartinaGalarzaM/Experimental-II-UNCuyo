{
 "cells": [
  {
   "cell_type": "code",
   "execution_count": 1,
   "metadata": {},
   "outputs": [],
   "source": [
    "#importamos librerías\n",
    "import numpy as np\n",
    "\n",
    "#Definimos funciones necesarias\n",
    "\n",
    "def sexg2rad(x):\n",
    "    #Convertir ángulos sexagesimales a radianes\n",
    "    aux = x.split()\n",
    "    deg = aux[0]\n",
    "    minu = aux[1]\n",
    "\n",
    "    #Algunos valores tienen 0 segundos pero no están escritos.\n",
    "    #Chequeamos que si no tienen agregado el cero, seg sea 0\n",
    "    try:\n",
    "        seg = aux[2]\n",
    "    except IndexError:\n",
    "        seg = 0\n",
    "\n",
    "    #Devolvemos el valor radianes.\n",
    "    return (float(deg) + (float(minu) / 60) + (float(seg) / 3600)) * (2 * np.pi/ 360)\n",
    "\n",
    "#Vectorizamos la función así puede funcionar sobre arreglos\n",
    "vsexg2rad = np.vectorize(sexg2rad)"
   ]
  },
  {
   "cell_type": "code",
   "execution_count": 2,
   "metadata": {
    "pycharm": {
     "name": "#%%\n"
    }
   },
   "outputs": [
    {
     "data": {
      "text/plain": [
       "numpy.ndarray"
      ]
     },
     "execution_count": 2,
     "metadata": {},
     "output_type": "execute_result"
    }
   ],
   "source": [
    "#importamos datos!\n",
    "\n",
    "medidas_gases = np.genfromtxt(\"/home/martina/Documentos/Facu/Experimental_II/Gases/Medidas_Gases.csv\",dtype=str,delimiter=',')\n",
    "datos_tubos = np.genfromtxt(\"/home/martina/Documentos/Facu/Experimental_II/Gases/tube_spectra_lines.csv\",dtype=str,delimiter=',')\n",
    "\n",
    "H_data_tubos = np.flip(datos_tubos[1:5,:],0)\n",
    "Hg_data_tubos = np.flip(datos_tubos[6:18,:],0)\n",
    "Ar_data_tubos = np.flip(datos_tubos[19:38,:],0)\n",
    "Ne_data_tubos = np.flip(datos_tubos[39:58,:],0)\n",
    "He_data_tubos = np.flip(datos_tubos[59:69,:],0)\n",
    "Kr_data_tubos = np.flip(datos_tubos[70:83,:],0)\n",
    "CO2_data_tubos = np.flip(datos_tubos[84:98,:],0)\n",
    "H2O_data_tubos = np.flip(datos_tubos[99:,:],0)\n",
    "\n",
    "#Medidas Hidrógeno\n",
    "H_N = medidas_gases[1,0].split()[0]\n",
    "H_theta0 = sexg2rad(medidas_gases[1,1])\n",
    "H_colores = medidas_gases[3:6,0]\n",
    "H_medidas = vsexg2rad(medidas_gases[3:6,1])\n",
    "\n",
    "#Medidas Mercurio con N = 300 lin/mm\n",
    "\n",
    "Hg300_N = medidas_gases[7,0].split()[0]\n",
    "Hg300_theta0 = sexg2rad(medidas_gases[7,1])\n",
    "Hg300_colores = medidas_gases[9:12,0]\n",
    "Hg300_medidas = vsexg2rad(medidas_gases[9:12,1])\n",
    "\n",
    "#Medidas Mercurio con N = 600 lin/mm\n",
    "\n",
    "Hg600_N = medidas_gases[13,0].split()[0]\n",
    "Hg600_theta0 = sexg2rad(medidas_gases[13,1])\n",
    "Hg600_colores = medidas_gases[14:18,0]\n",
    "Hg600_medidas = vsexg2rad(medidas_gases[14:18,1])\n",
    "\n",
    "#Medidas Argón\n",
    "\n",
    "Ar_N = medidas_gases[19,0].split()[0]\n",
    "Ar_theta0 = sexg2rad(medidas_gases[19,1])\n",
    "Ar_colores = medidas_gases[21:24,0]\n",
    "Ar_medidas = vsexg2rad(medidas_gases[21:24,1])\n",
    "\n",
    "#Medidas Neón\n",
    "\n",
    "Ne_N = medidas_gases[25,0].split()[0]\n",
    "Ne_theta0 = sexg2rad(medidas_gases[25,1])\n",
    "Ne_colores = medidas_gases[27:34,0]\n",
    "Ne_medidas = vsexg2rad(medidas_gases[27:34,1])\n",
    "\n",
    "#Medidas Helio\n",
    "\n",
    "He_N = medidas_gases[35,0].split()[0]\n",
    "He_theta0 = sexg2rad(medidas_gases[35,1])\n",
    "He_colores = medidas_gases[37:44,0]\n",
    "He_medidas = vsexg2rad(medidas_gases[37:44,1])\n",
    "\n",
    "#Medidas Krypton\n",
    "\n",
    "Kr_N = medidas_gases[45,0].split()[0]\n",
    "Kr_theta0 = sexg2rad(medidas_gases[45,1])\n",
    "Kr_colores = medidas_gases[47:52,0]\n",
    "Kr_medidas = vsexg2rad(medidas_gases[47:52,1])\n",
    "\n",
    "#Medidas CO2 --> Dióxido de Carbono\n",
    "\n",
    "CO2_N = medidas_gases[53,0].split()[0]\n",
    "CO2_theta0 = sexg2rad(medidas_gases[53,1])\n",
    "CO2_colores = medidas_gases[55:63,0]\n",
    "CO2_medidas = vsexg2rad(medidas_gases[55:63,1])\n",
    "\n",
    "#Medidas H20 --> Vapor de Agua\n",
    "H2O_N = medidas_gases[64,0].split()[0]\n",
    "H2O_theta0 = sexg2rad(medidas_gases[64,1])\n",
    "H2O_colores = medidas_gases[66:,0]\n",
    "H2O_medidas = vsexg2rad(medidas_gases[66:,1])\n",
    "\n",
    "type(CO2_medidas)"
   ]
  },
  {
   "cell_type": "code",
   "execution_count": 3,
   "metadata": {},
   "outputs": [
    {
     "name": "stdout",
     "output_type": "stream",
     "text": [
      "['6700' '4900' '4200']\n",
      "['4500' '5600' '5900']\n",
      "['4950' '6700' '6800']\n",
      "['5250' '5600' '5700' '5800' '5900' '6050' '6100' '6150' '6200']\n",
      "['4000' '4550' '4800' '5000' '5850' '6500' '6800']\n",
      "['4300' '5600' '5650' '5900' '6500']\n",
      "['4250' '4450' '4550' '4900' '5100' '5650' '6100' '6200']\n",
      "['4300' '5400' '5600' '6050' '6650']\n"
     ]
    },
    {
     "data": {
      "text/plain": [
       "numpy.str_"
      ]
     },
     "execution_count": 3,
     "metadata": {},
     "output_type": "execute_result"
    }
   ],
   "source": [
    "#Los datos del fabricante con los que me quede\n",
    "fabricante = np.genfromtxt(\"/home/martina/Documentos/Facu/Experimental_II/Gases/medidas_conservadas.csv\",dtype=str,delimiter=',')\n",
    "\n",
    "#Medidas Hidrógeno\n",
    "H_fab = np.flip(fabricante[1,0].split()[0])\n",
    "H_lambda_fab = np.flip(fabricante[1:4,1])\n",
    "\n",
    "#Medidas Mercurio con N = 300 lin/mm\n",
    "Hg300_fab = fabricante[6,0].split()[0]\n",
    "Hg300_lambda_fab = fabricante[6:9,1]\n",
    "\n",
    "\n",
    "#Medidas Argón\n",
    "Ar_fab = fabricante[11,0].split()[0]\n",
    "Ar_lambda_fab = fabricante[11:14,1]\n",
    "\n",
    "#Medidas Neón\n",
    "Ne_fab = fabricante[16,0].split()[0]\n",
    "Ne_lambda_fab = fabricante[16:25,1]\n",
    "\n",
    "#Medidas Helio\n",
    "He_fab = fabricante[27,0].split()[0]\n",
    "He_lambda_fab = fabricante[27:34,1]\n",
    "\n",
    "#Medidas Krypton\n",
    "\n",
    "Kr_fab = fabricante[36,0].split()[0]\n",
    "Kr_lambda_fab = fabricante[36:41,1]\n",
    "\n",
    "#Medidas CO2 --> Dióxido de Carbono\n",
    "\n",
    "CO2_fab = fabricante[43,0].split()[0]\n",
    "CO2_lambda_fab = fabricante[43:51,1]\n",
    "\n",
    "#Medidas H20 --> Vapor de Agua\n",
    "H2O_fab = fabricante[53,0].split()[0]\n",
    "H2O_lambda_fab = fabricante[53:,1]\n",
    "\n",
    "print(H_lambda_fab)\n",
    "print(Hg300_lambda_fab)\n",
    "print(Ar_lambda_fab)\n",
    "print(Ne_lambda_fab)\n",
    "print(He_lambda_fab)\n",
    "print(Kr_lambda_fab)\n",
    "print(CO2_lambda_fab)\n",
    "print(H2O_lambda_fab)\n",
    "\n",
    "type(H_lambda_fab[1])"
   ]
  },
  {
   "cell_type": "markdown",
   "metadata": {
    "pycharm": {
     "name": "#%% md\n"
    }
   },
   "source": [
    "Necesitamos calcular la longitud de onda para cada valor de ángulo medido.\n",
    "mediante la relación\n",
    "\n",
    "\\begin{equation}\n",
    "d \\ sin(\\theta) = m \\ \\lambda\n",
    "\\end{equation}\n",
    "\n",
    "Con\n",
    "\n",
    "m = 1,\n",
    "d = 1 / N\n",
    "\n",
    "Donde N es el número de líneas por mm por mm de la red de difracción\n",
    "\n",
    "Para el ánalisis de errores, tenemos que:\n",
    "\n",
    "\\begin{equation}\n",
    "\\lambda = d \\ sin(\\theta)\n",
    "\\end{equation}\n",
    "\n",
    "\\begin{equation}\n",
    "\\Delta \\lambda = \\sqrt{\\Bigl(sin(\\theta) \\  \\Delta_d\\Bigr)^2 + \\Bigl(d \\ \\cos(\\theta) \\ \\Delta_\\theta\\Bigr)^2}\n",
    "\\end{equation}\n",
    "\n",
    "Para el error en el ángulo tomamos el error de apreciación del goniómetro (15\"):\n",
    "\n",
    "$$\\Delta \\theta  = 15\" \\frac{1º}{3600\"} \\frac{2\\pi}{360º} = $$\n",
    "\n",
    "Para el error en la distancia entre líneas asumimos que la variación másxima en la cantidad de líneas es de 1 línea/mm:\n",
    "\n",
    "Para N = 300 líneas/mm ---> d = 1 / 300 = 0.0033333333...\n",
    "\n",
    "si   N = 301 lineas/mm ---> d = 1 / 301 = 0.0033222591...\n",
    "\n",
    "si   N = 299 líneas/mm ---> d = 1 / 299 = 0.0033444816...\n",
    "\n",
    "Tomamos en cuenta cuánto varía la distancia d"
   ]
  },
  {
   "cell_type": "code",
   "execution_count": 4,
   "metadata": {
    "pycharm": {
     "name": "#%%\n"
    }
   },
   "outputs": [
    {
     "name": "stdout",
     "output_type": "stream",
     "text": [
      "33333.333333333336 33222.591362126244 33444.816053511706\n",
      "110.74197120709141 111.48272017837007 111.11234569273074\n"
     ]
    }
   ],
   "source": [
    "line_err = 1\n",
    "dd = 1 / (float(H_N) / (10 ** 7 ))\n",
    "dd1 = 1 / ((float(H_N) + line_err) / (10 ** 7 ))\n",
    "dd2 = 1 / ((float(H_N) - line_err) / (10 ** 7 ))\n",
    "print(dd,dd1,dd2)\n",
    "deltadd1 = np.abs(dd - dd1)\n",
    "deltadd2 = np.abs(dd - dd2)\n",
    "deltadd = np.mean([deltadd1,deltadd2])\n",
    "print(deltadd1,deltadd2,deltadd)\n",
    "\n",
    "#error analisis\n",
    "# acabo de modificar delta_t, lo multiplique por 2 para tener en cuenta los errores de la medicion de theta y theta_0\n",
    "delta_d = deltadd\n",
    "delta_t = (15 * (1 / 3600) * (2 * np.pi / 360))*2"
   ]
  },
  {
   "cell_type": "code",
   "execution_count": 5,
   "metadata": {
    "pycharm": {
     "name": "#%%\n"
    }
   },
   "outputs": [
    {
     "name": "stdout",
     "output_type": "stream",
     "text": [
      "-3.365994417923815\n",
      "-3.2673137484592245\n",
      "1.7608285061614013\n",
      "Medidas Hidrógeno:\n",
      "\n",
      "Roja 6474.478 Angstrom\n",
      "Error: 22.09962113723592\n",
      "Porcentual:  -3.365994417923815\n",
      " \n",
      "Azul/verde 4739.902 Angstrom\n",
      "Error: 16.512551481698345\n",
      "Porcentual:  -3.2673137484592245\n",
      " \n",
      "Violeta 4273.955 Angstrom\n",
      "Error: 15.036147959584694\n",
      "Porcentual:  1.7608285061614013\n",
      " \n",
      "4\n",
      "Roja, 6474.48, 22.10 & Red & 6700 & 1\n",
      "Azul/verde, 4739.90, 16.51 & Blue & 4900 & 1\n",
      "Violeta, 4273.95, 15.04 & Violet & 4400 & 1\n",
      "- & - & - & Violet & 4200 & 1\n",
      "[22.09962114 16.51255148 15.03614796]\n",
      "\n",
      "################################################################################\n"
     ]
    }
   ],
   "source": [
    "#Analisis Hidrógeno\n",
    "\n",
    "#Tenemos entonces que:\n",
    "H_d = 1 / (float(H_N) / (10 ** 7 )) #d en nanometros\n",
    "#print(H_d)\n",
    "#Valor del angulo medido es la diferencia\n",
    "H_theta = abs(H_medidas - H_theta0)\n",
    "#Calculamos la longitud de onda y su error\n",
    "H_lambda = np.sin(H_theta) * H_d\n",
    "H_lambda_err = np.sqrt(np.square(np.sin(H_theta) * delta_d) + np.square(H_d * np.cos(H_theta) * delta_t))\n",
    "\n",
    "\n",
    "#Ahora el error porcentual respecto del fabricante\n",
    "for i in range(0,len(H_lambda)):\n",
    "    print(((H_lambda[i] - float(H_lambda_fab[i]))/ float(H_lambda_fab[i]))*100)\n",
    "\n",
    "len(H_lambda) \n",
    "#imprimo en pantalla los resultados Finale\n",
    "print(\"Medidas Hidrógeno:\\n\")\n",
    "for i in range(0,len(H_lambda)):\n",
    "    print(f\"{H_colores[i]} {H_lambda[i]:.3f} Angstrom\")\n",
    "    print (\"Error:\", H_lambda_err[i])\n",
    "    print(\"Porcentual: \",((H_lambda[i] - float(H_lambda_fab[i]))/ float(H_lambda_fab[i]))*100)\n",
    "    print(\" \")\n",
    "print(len(H_data_tubos))\n",
    "for i in range(0,len(H_data_tubos)):\n",
    "    try:\n",
    "        print(f\"{H_colores[i]}, {H_lambda[i]:.2f}, {H_lambda_err[i]:.2f} & {H_data_tubos[i,0]} & {H_data_tubos[i,1]} & {1}\")\n",
    "    except IndexError:\n",
    "        print(f\"- & - & - & {H_data_tubos[i,0]} & {H_data_tubos[i,1]} & {1}\")\n",
    "\n",
    "print(H_lambda_err)\n",
    "print(\"\\n################################################################################\")"
   ]
  },
  {
   "cell_type": "code",
   "execution_count": 6,
   "metadata": {
    "pycharm": {
     "name": "#%%\n"
    },
    "scrolled": true
   },
   "outputs": [
    {
     "name": "stdout",
     "output_type": "stream",
     "text": [
      "\n",
      "Medidas Mercurio con N = 300lin/mm\n",
      "\n",
      "Violeta 4293.187 Angstrom\n",
      "Error: 15.09678708913777\n",
      "Porcentual:  -4.595854386989898\n",
      " \n",
      "Verde 5377.225 Angstrom\n",
      "Error: 18.55189137842598\n",
      "Porcentual:  -3.978125250760172\n",
      " \n",
      "Naranja 5692.759 Angstrom\n",
      "Error: 19.568091905093794\n",
      "Porcentual:  -3.512566437509631\n",
      " \n",
      "\n",
      "################################################################################\n"
     ]
    }
   ],
   "source": [
    "#Analisis Mercurio 300 lin/mm\n",
    "#Tenemos entonces que:\n",
    "Hg300_d = 1 / (float(Hg300_N) / (10 ** 7 )) #d en nanometros\n",
    "\n",
    "#Valor del angulo medido es la diferencia\n",
    "Hg300_theta = abs(Hg300_medidas - Hg300_theta0)\n",
    "\n",
    "#Calculamos la longitud de onda\n",
    "Hg300_lambda = np.sin(Hg300_theta) * Hg300_d\n",
    "\n",
    "#error\n",
    "Hg300lambda_err = np.sqrt(np.square(np.sin(Hg300_theta) * delta_d) + np.square(Hg300_d * np.cos(Hg300_theta) * delta_t))\n",
    "#imprimo en pantalla los resultados Finales\n",
    "print(\"\\nMedidas Mercurio con N = 300lin/mm\\n\")\n",
    "for i in range(0,len(Hg300_lambda)):\n",
    "    print(f\"{Hg300_colores[i]} {Hg300_lambda[i]:.3f} Angstrom\")\n",
    "    print (\"Error:\", Hg300lambda_err[i])\n",
    "    print(\"Porcentual: \",((Hg300_lambda[i] - float(Hg300_lambda_fab[i]))/ float(Hg300_lambda_fab[i]))*100)\n",
    "    print(\" \")\n",
    "#print (Hg300lambda_err)\n",
    "print(\"\\n################################################################################\")"
   ]
  },
  {
   "cell_type": "code",
   "execution_count": 7,
   "metadata": {
    "pycharm": {
     "name": "#%%\n"
    }
   },
   "outputs": [
    {
     "name": "stdout",
     "output_type": "stream",
     "text": [
      "\n",
      "Medidas Argón\n",
      "\n",
      "Verde :  4850.248951977778  Angstrom\n",
      "Error: 16.864179102234882\n",
      "Porcentual:  -2.0151726873176115\n",
      " \n",
      "Naranja/rojo 1 :  6750.081413724783  Angstrom\n",
      "Error: 22.995957064783948\n",
      "Porcentual:  0.7474837869370534\n",
      " \n",
      "Naranja/rojo 2 :  6878.216719267555  Angstrom\n",
      "Error: 23.413254562046784\n",
      "Porcentual:  1.1502458715816934\n",
      " \n",
      "\n",
      "################################################################################\n"
     ]
    }
   ],
   "source": [
    "#Analisis Argón\n",
    "#Tenemos entonces que:\n",
    "Ar_d = 1 / (float(Ar_N) / (10 ** 7 )) #d en nanometros\n",
    "#Valor del angulo medido es la diferencia\n",
    "Ar_theta = abs(Ar_medidas - Ar_theta0)\n",
    "#Calculamos la longitud de onda\n",
    "Ar_lambda = np.sin(Ar_theta) * Ar_d\n",
    "\n",
    "Arlambda_err = np.sqrt(np.square(np.sin(Ar_theta) * delta_d) + np.square(Ar_d * np.cos(Ar_theta) * delta_t))\n",
    "#imprimo en pantalla los resultados Finales\n",
    "print(\"\\nMedidas Argón\\n\")\n",
    "for i in range(0,len(Ar_lambda)):\n",
    "    print(Ar_colores[i],\": \",Ar_lambda[i],\" Angstrom\")\n",
    "    print(\"Error:\" , Arlambda_err[i])\n",
    "    print(\"Porcentual: \",((Ar_lambda[i] - float(Ar_lambda_fab[i]))/ float(Ar_lambda_fab[i]))*100)\n",
    "    print(\" \")\n",
    "print(\"\\n################################################################################\")"
   ]
  },
  {
   "cell_type": "code",
   "execution_count": 8,
   "metadata": {
    "pycharm": {
     "name": "#%%\n"
    }
   },
   "outputs": [
    {
     "name": "stdout",
     "output_type": "stream",
     "text": [
      "\n",
      "Medidas Neón\n",
      "\n",
      "Verde 1 :  5310.228935584085  Angstrom\n",
      "Error:  18.336627194157312\n",
      "Porcentual:  1.1472178206492356\n",
      " \n",
      "Verde 2 :  5367.655480137097  Angstrom\n",
      "Error:  18.521132349058227\n",
      "Porcentual:  -4.149009283266131\n",
      " \n",
      "Amarillo :  5802.595485598168  Angstrom\n",
      "Error:  19.92267223520261\n",
      "Porcentual:  1.7999207999678617\n",
      " \n",
      "Naranja :  5898.053099945818  Angstrom\n",
      "Error:  20.23115654953061\n",
      "Porcentual:  1.6905706887209975\n",
      " \n",
      "Naranja/rojo 1 :  6041.145693728965  Angstrom\n",
      "Error:  20.694113198080995\n",
      "Porcentual:  2.3922998937112703\n",
      " \n",
      "Naranja/rojo 2 :  6098.350679611055  Angstrom\n",
      "Error:  20.87936299864642\n",
      "Porcentual:  0.7991847869595878\n",
      " \n",
      "Rojo :  6355.540715745902  Angstrom\n",
      "Error:  21.713357843616578\n",
      "Porcentual:  4.189192061408232\n",
      " \n",
      "\n",
      "################################################################################\n"
     ]
    }
   ],
   "source": [
    "#Analisis Neón\n",
    "#Tenemos entonces que:\n",
    "Ne_d = 1 / (float(Ne_N) / (10 ** 7 )) #d en nanometros\n",
    "#Valor del angulo medido es la diferencia\n",
    "Ne_theta = abs(Ne_medidas - Ne_theta0)\n",
    "#Calculamos la longitud de onda\n",
    "Ne_lambda = np.sin(Ne_theta) * Ne_d\n",
    "\n",
    "Nelambda_err = np.sqrt(np.square(np.sin(Ne_theta) * delta_d) + np.square(Ne_d * np.cos(Ne_theta) * delta_t))\n",
    "#imprimo en pantalla los resultados Finales\n",
    "print(\"\\nMedidas Neón\\n\")\n",
    "for i in range(0,len(Ne_lambda)):\n",
    "    print(Ne_colores[i],\": \",Ne_lambda[i],\" Angstrom\")\n",
    "    print(\"Error: \",Nelambda_err[i])\n",
    "    print(\"Porcentual: \",((Ne_lambda[i] - float(Ne_lambda_fab[i]))/ float(Ne_lambda_fab[i]))*100)\n",
    "    print(\" \")\n",
    "\n",
    "print(\"\\n################################################################################\")"
   ]
  },
  {
   "cell_type": "code",
   "execution_count": 9,
   "metadata": {
    "pycharm": {
     "name": "#%%\n"
    }
   },
   "outputs": [
    {
     "name": "stdout",
     "output_type": "stream",
     "text": [
      "\n",
      "Medidas Helio\n",
      "\n",
      "Violeta :  4413.351843806396  Angstrom\n",
      "Error:  15.476298490395482\n",
      "Porcentual:  10.333796095159892\n",
      " \n",
      "Azul :  4639.103365335522  Angstrom\n",
      "Error:  16.191967679980838\n",
      "Porcentual:  1.958315721659816\n",
      " \n",
      "Verde 1 :  4855.045439493601  Angstrom\n",
      "Error:  16.879478678768518\n",
      "Porcentual:  1.1467799894500292\n",
      " \n",
      "Verde 2 :  4965.336100834346  Angstrom\n",
      "Error:  17.231615137846283\n",
      "Porcentual:  -0.6932779833130734\n",
      " \n",
      "Amarillo :  5797.821309311396  Angstrom\n",
      "Error:  19.907251605616224\n",
      "Porcentual:  -0.8919434305744212\n",
      " \n",
      "Rojo 1 :  6036.3777785054335  Angstrom\n",
      "Error:  20.67867732719731\n",
      "Porcentual:  -7.132649561454869\n",
      " \n",
      "Rojo 2 :  6982.544929336243  Angstrom\n",
      "Error:  23.75326679403393\n",
      "Porcentual:  2.6844842549447443\n",
      " \n",
      "[15.47629849 16.19196768 16.87947868 17.23161514 19.90725161 20.67867733\n",
      " 23.75326679]\n",
      "\n",
      "################################################################################\n"
     ]
    }
   ],
   "source": [
    "#Analisis Helio\n",
    "#Tenemos entonces que:\n",
    "He_d = 1 / (float(He_N) / (10 ** 7 )) #d en nanometros\n",
    "#Valor del angulo medido es la diferencia\n",
    "He_theta = (He_medidas - He_theta0)\n",
    "#Calculamos la longitud de onda\n",
    "He_lambda = np.sin(He_theta) * He_d\n",
    "\n",
    "Helambda_err = np.sqrt(np.square(np.sin(He_theta) * delta_d) + np.square(He_d * np.cos(He_theta) * delta_t))\n",
    "#imprimo en pantalla los resultados Finales\n",
    "print(\"\\nMedidas Helio\\n\")\n",
    "for i in range(0,len(He_lambda)):\n",
    "    print(He_colores[i],\": \",He_lambda[i],\" Angstrom\")\n",
    "    print(\"Error: \",Helambda_err[i])\n",
    "    print(\"Porcentual: \",((He_lambda[i] - float(He_lambda_fab[i]))/ float(He_lambda_fab[i]))*100)\n",
    "    print(\" \")\n",
    "print(Helambda_err)\n",
    "print(\"\\n################################################################################\")"
   ]
  },
  {
   "cell_type": "code",
   "execution_count": 10,
   "metadata": {
    "pycharm": {
     "name": "#%%\n"
    }
   },
   "outputs": [
    {
     "name": "stdout",
     "output_type": "stream",
     "text": [
      "\n",
      "Medidas Kryptón\n",
      "\n",
      "Violeta 2 :  4245.10445396753  Angstrom\n",
      "Error:  14.945234012556199\n",
      "Porcentual:  -1.27664060540627\n",
      " \n",
      "Verde 1 :  5118.691277626224  Angstrom\n",
      "Error:  17.722270481334192\n",
      "Porcentual:  -8.594798613817424\n",
      " \n",
      "Verde 2 :  5501.5868620226  Angstrom\n",
      "Error:  18.95195809343829\n",
      "Porcentual:  -2.6267812031398203\n",
      " \n",
      "Naranja  :  5816.917277566406  Angstrom\n",
      "Error:  19.968936244540618\n",
      "Porcentual:  -1.4081817361626174\n",
      " \n",
      "Rojo :  6503.0107338709495  Angstrom\n",
      "Error:  22.19233465186918\n",
      "Porcentual:  0.046318982629992\n",
      " \n",
      "[14.94523401 17.72227048 18.95195809 19.96893624 22.19233465]\n",
      "\n",
      "################################################################################\n"
     ]
    }
   ],
   "source": [
    "#Analisis Kryptón\n",
    "#Tenemos entonces que:\n",
    "Kr_d = 1 / (float(Kr_N) / (10 ** 7 )) #d en nanometros\n",
    "#Valor del angulo medido es la diferencia\n",
    "Kr_theta = abs(Kr_medidas - Kr_theta0)\n",
    "#Calculamos la longitud de onda\n",
    "Kr_lambda = np.sin(Kr_theta) * Kr_d\n",
    "\n",
    "Krlambda_err = np.sqrt(np.square(np.sin(Kr_theta) * delta_d) + np.square(Kr_d * np.cos(Kr_theta) * delta_t))\n",
    "#imprimo en pantalla los resultados Finales\n",
    "print(\"\\nMedidas Kryptón\\n\")\n",
    "for i in range(0,len(Kr_lambda)):\n",
    "    print(Kr_colores[i],\": \",Kr_lambda[i],\" Angstrom\")\n",
    "    print(\"Error: \",Krlambda_err[i])\n",
    "    print(\"Porcentual: \",((Kr_lambda[i] - float(Kr_lambda_fab[i]))/ float(Kr_lambda_fab[i]))*100)\n",
    "    print(\" \")\n",
    "print(Krlambda_err)\n",
    "print(\"\\n################################################################################\")"
   ]
  },
  {
   "cell_type": "code",
   "execution_count": 11,
   "metadata": {
    "pycharm": {
     "name": "#%%\n"
    }
   },
   "outputs": [
    {
     "name": "stdout",
     "output_type": "stream",
     "text": [
      "\n",
      "Medidas CO2\n",
      "\n",
      "Violeta 1 :  4355.6796882942335  Angstrom\n",
      "Error:  15.294024248587458\n",
      "Porcentual:  2.486580901040789\n",
      " \n",
      "Violeta 2 :  4480.619021390241  Angstrom\n",
      "Error:  15.689193001503908\n",
      "Porcentual:  0.6880678964099092\n",
      " \n",
      "Azul :  4677.507856947723  Angstrom\n",
      "Error:  16.314039635326175\n",
      "Porcentual:  2.8023704823675333\n",
      " \n",
      "Cyan :  4807.07595941737  Angstrom\n",
      "Error:  16.7265249150141\n",
      "Porcentual:  -1.8964089914822524\n",
      " \n",
      "Verde :  5176.171061209598  Angstrom\n",
      "Error:  17.906464195576355\n",
      "Porcentual:  1.4935502197960315\n",
      " \n",
      "Amarillo :  5582.857970251379  Angstrom\n",
      "Error:  19.213726127882925\n",
      "Porcentual:  -1.1883545088251521\n",
      " \n",
      "Rojo 1 :  6026.841565078855  Angstrom\n",
      "Error:  20.64780635767095\n",
      "Porcentual:  -1.1993186052646767\n",
      " \n",
      "Rojo 2 :  6222.230855117218  Angstrom\n",
      "Error:  21.280848416035862\n",
      "Porcentual:  0.3585621793099709\n",
      " \n",
      "[15.29402425 15.689193   16.31403964 16.72652492 17.9064642  19.21372613\n",
      " 20.64780636 21.28084842]\n",
      "\n",
      "################################################################################\n"
     ]
    }
   ],
   "source": [
    "#Analisis Dióxido de Carbono CO2\n",
    "#Tenemos entonces que:\n",
    "CO2_d = 1 / (float(CO2_N) / (10 ** 7 )) #d en nanometros\n",
    "#Valor del angulo medido es la diferencia\n",
    "CO2_theta = abs(CO2_medidas - CO2_theta0)\n",
    "#Calculamos la longitud de onda\n",
    "CO2_lambda = np.sin(CO2_theta) * CO2_d\n",
    "\n",
    "CO2lambda_err = np.sqrt(np.square(np.sin(CO2_theta) * delta_d) + np.square(CO2_d * np.cos(CO2_theta) * delta_t))\n",
    "#imprimo en pantalla los resultados Finales\n",
    "print(\"\\nMedidas CO2\\n\")\n",
    "for i in range(0,len(CO2_lambda)):\n",
    "    print(CO2_colores[i],\": \",CO2_lambda[i],\" Angstrom\")\n",
    "    print(\"Error: \",CO2lambda_err[i])\n",
    "    print(\"Porcentual: \",((CO2_lambda[i] - float(CO2_lambda_fab[i]))/ float(CO2_lambda_fab[i]))*100)\n",
    "    print(\" \")\n",
    "print(CO2lambda_err)\n",
    "print(\"\\n################################################################################\")"
   ]
  },
  {
   "cell_type": "code",
   "execution_count": 12,
   "metadata": {
    "pycharm": {
     "name": "#%%\n"
    }
   },
   "outputs": [
    {
     "name": "stdout",
     "output_type": "stream",
     "text": [
      "\n",
      "Medidas H2O\n",
      "\n",
      "Violeta :  4302.8018857475145  Angstrom\n",
      "Error:  15.127115465130682\n",
      "Porcentual:  0.065160133663127\n",
      " \n",
      "Cyan :  5382.009568293543  Angstrom\n",
      "Error:  18.567271747894242\n",
      "Porcentual:  -0.33315614271215827\n",
      " \n",
      "Amarillo :  5840.784468480523  Angstrom\n",
      "Error:  20.04604986846031\n",
      "Porcentual:  4.299722651437913\n",
      " \n",
      "Naranja :  6069.750497859547  Angstrom\n",
      "Error:  20.786733710991292\n",
      "Porcentual:  0.32645451007515813\n",
      " \n",
      "Roja :  6479.234110300467  Angstrom\n",
      "Error:  22.11507314540398\n",
      "Porcentual:  -2.567908115782446\n",
      " \n",
      "[15.12711547 18.56727175 20.04604987 20.78673371 22.11507315]\n",
      "\n",
      "################################################################################\n"
     ]
    }
   ],
   "source": [
    "#Analisis Vapor de Agua H2O\n",
    "#Tenemos entonces que:\n",
    "H2O_d = 1 / (float(H2O_N) / (10 ** 7 )) #d en nanometros\n",
    "#Valor del angulo medido es la diferencia\n",
    "H2O_theta = abs(H2O_medidas - H2O_theta0)\n",
    "#Calculamos la longitud de onda\n",
    "H2O_lambda = np.sin(H2O_theta) * H2O_d\n",
    "\n",
    "H2Olambda_err = np.sqrt(np.square(np.sin(H2O_theta) * delta_d) + np.square(H2O_d * np.cos(H2O_theta) * delta_t))\n",
    "#imprimo en pantalla los resultados Finales\n",
    "print(\"\\nMedidas H2O\\n\")\n",
    "for i in range(0,len(H2O_lambda)):\n",
    "    print(H2O_colores[i],\": \",H2O_lambda[i],\" Angstrom\")\n",
    "    print(\"Error: \",H2Olambda_err[i])\n",
    "    print(\"Porcentual: \",((H2O_lambda[i] - float(H2O_lambda_fab[i]))/ float(H2O_lambda_fab[i]))*100)\n",
    "    print(\" \")\n",
    "print(H2Olambda_err)  \n",
    "print(\"\\n################################################################################\")"
   ]
  },
  {
   "cell_type": "code",
   "execution_count": 13,
   "metadata": {
    "pycharm": {
     "name": "#%%\n"
    }
   },
   "outputs": [],
   "source": [
    "#Analisis Mercurio 600 lin/mm\n",
    "# (300 lin / mm) * (1 mm / 10 6 nm)\n",
    "#Tenemos entonces que:\n",
    "#Hg600_d = 1 / (float(Hg600_N) / (10 ** 7 )) #d en nanometros\n",
    "#Valor del angulo medido es la diferencia\n",
    "#Hg600_theta = abs(Hg600_medidas - Hg600_theta0)\n",
    "#Calculamos la longitud de onda\n",
    "#Hg600_lambda = np.sin(Hg600_theta) * Hg600_d\n",
    "#imprimo en pantalla los resultados Finales\n",
    "#print(\"\\nMedidas Mercurio con N = 600lin/mm\\n\")\n",
    "#for i in range(0,len(Hg600_lambda)):\n",
    "#    print(Hg600_colores[i],\": \",Hg600_lambda[i],\" Angstrom\")\n",
    "#print(\"\\n################################################################################\")"
   ]
  },
  {
   "cell_type": "code",
   "execution_count": null,
   "metadata": {},
   "outputs": [],
   "source": []
  },
  {
   "cell_type": "code",
   "execution_count": null,
   "metadata": {},
   "outputs": [],
   "source": []
  }
 ],
 "metadata": {
  "kernelspec": {
   "display_name": "Python 3",
   "language": "python",
   "name": "python3"
  },
  "language_info": {
   "codemirror_mode": {
    "name": "ipython",
    "version": 3
   },
   "file_extension": ".py",
   "mimetype": "text/x-python",
   "name": "python",
   "nbconvert_exporter": "python",
   "pygments_lexer": "ipython3",
   "version": "3.7.6"
  }
 },
 "nbformat": 4,
 "nbformat_minor": 1
}
